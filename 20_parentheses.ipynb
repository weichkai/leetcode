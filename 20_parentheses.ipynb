{
 "cells": [
  {
   "cell_type": "code",
   "execution_count": 31,
   "metadata": {},
   "outputs": [],
   "source": [
    "class Solution:\n",
    "    def isValid(self, s: str) -> bool:\n",
    "        \n",
    "        s = [*s]\n",
    "        \n",
    "        if len(s) == 0 or len(s)%2 != 0:\n",
    "            return False\n",
    "        \n",
    "        \n",
    "        stack = []\n",
    "        i = 0\n",
    "        \n",
    "        print(\"s = \", s)\n",
    "        \n",
    "        for i, char in enumerate(s):\n",
    "            \n",
    "            \n",
    "            print(\"_________________\")\n",
    "            print(\"iteration: \", i)\n",
    "            print(\"len stack: \", len(stack))\n",
    "            print(\"stack: \", stack)\n",
    "            print(\"s[i] == \", s[i])\n",
    "            \n",
    "            \n",
    "            if s[i] == \"(\" or s[i] == \"[\" or s[i] == \"{\":\n",
    "                stack.append(s[i])\n",
    "                print(\"went into stack append\")\n",
    "            else:\n",
    "                print(\"went into else\")\n",
    "                if s[i] == \")\" and stack[len(stack)-1] == \"(\":\n",
    "                    stack.pop(len(stack)-1)\n",
    "                elif s[i] == \"]\" and stack[len(stack)-1] == \"[\":\n",
    "                    stack.pop(len(stack)-1)\n",
    "                elif s[i] == \"{\" and stack[len(stack)-1] == \"}\":\n",
    "                    stack.pop(len(stack)-1)\n",
    "                else:\n",
    "                    return False\n",
    "        \n",
    "          \n",
    "        print(\"final length \", len(stack))  \n",
    "        if len(stack) == 0:\n",
    "            return True\n",
    "        else:\n",
    "            return False"
   ]
  },
  {
   "cell_type": "code",
   "execution_count": 32,
   "metadata": {},
   "outputs": [
    {
     "name": "stdout",
     "output_type": "stream",
     "text": [
      "s =  ['(', ')']\n",
      "_________________\n",
      "iteration:  0\n",
      "len stack:  0\n",
      "stack:  []\n",
      "s[i] ==  (\n",
      "went into stack append\n",
      "_________________\n",
      "iteration:  1\n",
      "len stack:  1\n",
      "stack:  ['(']\n",
      "s[i] ==  )\n",
      "went into else\n",
      "final length  0\n",
      "True\n"
     ]
    }
   ],
   "source": [
    "solution = Solution()\n",
    "print(solution.isValid(\"()\"))"
   ]
  }
 ],
 "metadata": {
  "kernelspec": {
   "display_name": "Python 3",
   "language": "python",
   "name": "python3"
  },
  "language_info": {
   "codemirror_mode": {
    "name": "ipython",
    "version": 3
   },
   "file_extension": ".py",
   "mimetype": "text/x-python",
   "name": "python",
   "nbconvert_exporter": "python",
   "pygments_lexer": "ipython3",
   "version": "3.11.8"
  }
 },
 "nbformat": 4,
 "nbformat_minor": 2
}
