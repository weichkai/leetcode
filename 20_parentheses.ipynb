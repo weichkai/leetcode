{
 "cells": [
  {
   "cell_type": "code",
   "execution_count": 27,
   "metadata": {},
   "outputs": [
    {
     "data": {
      "text/plain": [
       "False"
      ]
     },
     "execution_count": 27,
     "metadata": {},
     "output_type": "execute_result"
    }
   ],
   "source": [
    "class Solution:\n",
    "    def isValid(self, s: str) -> bool:\n",
    "        \n",
    "        s = [*s]\n",
    "        \n",
    "        if len(s) == 0 or len(s)%2 != 0:\n",
    "            return False\n",
    "        \n",
    "        i = 0\n",
    "        length = len(s)\n",
    "        \n",
    "        while i < length:\n",
    "            \n",
    "\n",
    "        i = 0\n",
    "        while i < len(s):         \n",
    "            if s[i] == \"(\" or '[' or \"{\":\n",
    "                if len(s) > i+1:\n",
    "                    if s[i+1] == \"(\" or '[' or \"{\":\n",
    "                        continue\n",
    "                    if s[i] == \"(\" and s[i+1] == \")\":\n",
    "                        s.pop(i+1)\n",
    "                        s.pop(i)\n",
    "                        i = 0\n",
    "                    elif s[i] == '[' and s[i+1] == ']':\n",
    "                        s.pop(i+1)\n",
    "                        s.pop(i)\n",
    "                        i = 0\n",
    "                    elif s[i] == \"{\" and s[i+1] == \"}\":\n",
    "                        s.pop(i+1)\n",
    "                        s.pop(i)\n",
    "                        i = 0\n",
    "                    else:\n",
    "                        return False\n",
    "            else:\n",
    "                i += 1         \n",
    "            \n",
    "        if len(s) == 0:\n",
    "            return True"
   ]
  },
  {
   "cell_type": "code",
   "execution_count": 28,
   "metadata": {},
   "outputs": [
    {
     "name": "stdout",
     "output_type": "stream",
     "text": [
      "i =  0\n",
      "s =  ['(', ')']\n",
      "2\n",
      "______________\n",
      "s[i] =  (\n",
      "True\n"
     ]
    }
   ],
   "source": [
    "solution = Solution()\n",
    "print(solution.isValid(\"()\"))"
   ]
  }
 ],
 "metadata": {
  "kernelspec": {
   "display_name": "Python 3",
   "language": "python",
   "name": "python3"
  },
  "language_info": {
   "codemirror_mode": {
    "name": "ipython",
    "version": 3
   },
   "file_extension": ".py",
   "mimetype": "text/x-python",
   "name": "python",
   "nbconvert_exporter": "python",
   "pygments_lexer": "ipython3",
   "version": "3.11.8"
  }
 },
 "nbformat": 4,
 "nbformat_minor": 2
}
